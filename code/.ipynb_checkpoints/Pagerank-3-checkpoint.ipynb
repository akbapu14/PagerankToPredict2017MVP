{
 "cells": [
  {
   "cell_type": "code",
   "execution_count": 1,
   "metadata": {
    "collapsed": false
   },
   "outputs": [],
   "source": [
    "import pickle\n",
    "import numpy as np"
   ]
  },
  {
   "cell_type": "code",
   "execution_count": 2,
   "metadata": {
    "collapsed": true
   },
   "outputs": [],
   "source": [
    "oo_dict = pickle.load(open('oo_dict.pickle', 'rb'))\n",
    "of_dict = pickle.load(open('of_dict.pickle', 'rb'))\n",
    "win_shares = pickle.load(open('win_shares.pickle', 'rb'))\n",
    "all_star_teammates = pickle.load(open('all_star_teammates.pickle', 'rb'))\n",
    "vorp = pickle.load(open('vorp.pickle', 'rb'))\n",
    "d_win_shares = pickle.load(open('d_win_shares.pickle', 'rb'))\n",
    "plus_minus = pickle.load(open('plus_minus.pickle', 'rb'))\n",
    "games_behind = pickle.load(open('games_behind.pickle', 'rb'))"
   ]
  },
  {
   "cell_type": "code",
   "execution_count": 19,
   "metadata": {
    "collapsed": false
   },
   "outputs": [],
   "source": [
    "players = list(oo_dict.keys())\n",
    "\n",
    "def calculateScore(player):\n",
    "    v = vorp[player]\n",
    "    o = win_shares[player]\n",
    "    d = d_win_shares[player]\n",
    "    g = games_behind[player]\n",
    "    gb = 0\n",
    "    if g == 0:\n",
    "        gb = 6\n",
    "    if 0 < g and g >= 5:\n",
    "        gb = 5\n",
    "    if 5 < g and g >=10:\n",
    "        gb = 4\n",
    "    if 10 < g and g >= 15:\n",
    "        gb = 3\n",
    "    if 15 < g and g >= 20:\n",
    "        gb = 2\n",
    "    else:\n",
    "        gb = 1\n",
    "    p = plus_minus[player] + 3\n",
    "    return 4*v + 3 * .6 * o + 3 * .4 * d + 2 * gb + 1*p\n",
    "data_mat = []\n",
    "for player1 in players:\n",
    "    row = []\n",
    "    score1 = calculateScore(player1)\n",
    "    for player2 in players:\n",
    "        score2 = calculateScore(player2)\n",
    "        row.append(score2/(score1 + score2))\n",
    "    data_mat.append(row)\n",
    "data_mat = np.array(data_mat)\n",
    "col_sums = data_mat.sum(axis=0)\n",
    "data_mat = np.divide(data_mat, col_sums)\n",
    "\n",
    "\n",
    "def getTeleMatrix(A,m):\n",
    "    n = A.shape[1]\n",
    "    S = np.ones((n,n))/n\n",
    "    return (1-m)*A + m*S\n",
    "m = 0.15\n",
    "M = getTeleMatrix(data_mat,m)\n",
    "\n",
    "def maximalEigenvector(A):\n",
    "    n = A.shape[1]\n",
    "    w,v = np.linalg.eig(A)\n",
    "    return abs(np.real(v[:n,0])/np.linalg.norm(v[:n,0],1))\n",
    "def linearEquations(A,m):\n",
    " n = A.shape[1]\n",
    " C = np.eye(n,n)-np.dot((1-m),A)\n",
    " b = m*(np.array([1]*n,dtype='float64')/n)\n",
    " return np.linalg.solve(C,b)\n",
    "# def powerMethodBase(A,iter):\n",
    "#  \"\"\" basic power method \"\"\"\n",
    "#  x0 = [1]*A.shape[1]\n",
    "#  for i in range(iter):\n",
    "#   print(\"happened once\")\n",
    "#   print(x0)\n",
    "#   x0 = A.dot(x0)\n",
    "#   x0 = x0/np.linalg.norm(x0,1)\n",
    "#  return x0"
   ]
  },
  {
   "cell_type": "code",
   "execution_count": 20,
   "metadata": {
    "collapsed": false
   },
   "outputs": [
    {
     "name": "stdout",
     "output_type": "stream",
     "text": [
      "[ 0.04553095  0.07309891  0.05645883  0.0576114   0.05447263  0.0610068\n",
      "  0.04847406  0.05909279  0.04846122  0.05703718  0.06638044  0.05297187\n",
      "  0.05586766  0.05533149  0.05001433  0.06134498  0.05039913  0.04644534]\n"
     ]
    }
   ],
   "source": [
    "n = M.shape[1]\n",
    "x0 = [1]*n\n",
    "x0 = np.array(x0)\n",
    "maxeig = linearEquations(M,m)\n",
    "# pageRank(M,m)\n",
    "print(maxeig)"
   ]
  },
  {
   "cell_type": "code",
   "execution_count": 21,
   "metadata": {
    "collapsed": false
   },
   "outputs": [
    {
     "data": {
      "text/plain": [
       "array([ 0, 17,  8,  6, 14, 16, 11,  4, 13, 12,  2,  9,  3,  7,  5, 15, 10,\n",
       "        1])"
      ]
     },
     "execution_count": 21,
     "metadata": {},
     "output_type": "execute_result"
    }
   ],
   "source": [
    "np.argsort(maxeig)"
   ]
  },
  {
   "cell_type": "code",
   "execution_count": 22,
   "metadata": {
    "collapsed": false
   },
   "outputs": [
    {
     "name": "stdout",
     "output_type": "stream",
     "text": [
      "Russell Westbrook\n",
      "James Harden\n",
      "LeBron James\n",
      "Kevin Durant\n",
      "Kawhi Leonard\n",
      "Giannis Antetokounmpo\n",
      "Kyle Lowry\n",
      "Isaiah Thomas\n",
      "Gordon Hayward\n",
      "Anthony Davis\n",
      "DeAndre Jordan\n",
      "John Wall\n",
      "Kemba Walker\n",
      "Marc Gasol\n",
      "Paul Millsap\n",
      "Jimmy Butler\n",
      "Paul George\n",
      "Carmelo Anthony\n"
     ]
    }
   ],
   "source": [
    "# with win-shares as a more important factor\n",
    "for p in np.argsort(maxeig):\n",
    "    print(players[p])"
   ]
  },
  {
   "cell_type": "code",
   "execution_count": 23,
   "metadata": {
    "collapsed": false
   },
   "outputs": [],
   "source": [
    "# players in contention for mvp this season\n",
    "mvp_candidates = [\"LeBron James\", \"Kevin Durant\", \"Russell Westbrook\", \"Kawhi Leonard\", \"James Harden\"]\n",
    "mvp_candidate_mat = []\n",
    "for player1 in mvp_candidates:\n",
    "    row = []\n",
    "    score1 = calculateScore(player1)\n",
    "    for player2 in mvp_candidates:\n",
    "        score2 = calculateScore(player2)\n",
    "        row.append(score2/(score1 + score2))\n",
    "    mvp_candidate_mat.append(row)\n",
    "mvp_candidate_mat = np.array(mvp_candidate_mat)\n",
    "col_sums = mvp_candidate_mat.sum(axis=0)\n",
    "mvp_candidate_mat = np.divide(mvp_candidate_mat, col_sums)\n"
   ]
  },
  {
   "cell_type": "code",
   "execution_count": 24,
   "metadata": {
    "collapsed": false
   },
   "outputs": [
    {
     "name": "stdout",
     "output_type": "stream",
     "text": [
      "[ 0.20256491  0.20261241  0.19154054  0.20826258  0.19501956]\n",
      "(5, 5)\n"
     ]
    }
   ],
   "source": [
    "a = 0.15\n",
    "A = getTeleMatrix(mvp_candidate_mat,a)\n",
    "maxeig = linearEquations(A,a)\n",
    "# pageRank(M,m)\n",
    "print(maxeig)\n",
    "print (A.shape)"
   ]
  },
  {
   "cell_type": "code",
   "execution_count": 25,
   "metadata": {
    "collapsed": false
   },
   "outputs": [
    {
     "data": {
      "text/plain": [
       "array([2, 4, 0, 1, 3])"
      ]
     },
     "execution_count": 25,
     "metadata": {},
     "output_type": "execute_result"
    }
   ],
   "source": [
    "np.argsort(maxeig)"
   ]
  },
  {
   "cell_type": "code",
   "execution_count": 26,
   "metadata": {
    "collapsed": false
   },
   "outputs": [
    {
     "name": "stdout",
     "output_type": "stream",
     "text": [
      "Russell Westbrook\n",
      "James Harden\n",
      "LeBron James\n",
      "Kevin Durant\n",
      "Kawhi Leonard\n"
     ]
    }
   ],
   "source": [
    "for p in np.argsort(maxeig):\n",
    "    print(mvp_candidates[p])"
   ]
  },
  {
   "cell_type": "code",
   "execution_count": 27,
   "metadata": {
    "collapsed": true
   },
   "outputs": [],
   "source": [
    "# Extra: Simulate 7 game series between two teams of all stars\n",
    "# Just a simple fun application of Markov Chains with changing probabilites\n",
    "# TODO: Fill in with players of your choice from the all star list\n",
    "teamA = [\"LeBron James\", \"Kevin Durant\", \"Carmelo Anthony\", \"Kawhi Leonard\", \"Anthony Davis\"]\n",
    "teamB = [\"James Harden\", \"Russell Westbrook\", \"Paul George\", \"Jimmy Butler\", \"John Wall\"]\n",
    "\n",
    "def calculate_avg_score(teamA, teamB):\n",
    "    teamA_avg = 0\n",
    "    teamB_avg = 0\n",
    "    for player in teamA:\n",
    "        teamA_avg += calculateScore(player)\n",
    "    teamA_avg /= 5\n",
    "    \n",
    "    for player in teamB:\n",
    "        teamB_avg += calculateScore(player)\n",
    "    \n",
    "    teamB_avg /= 5\n",
    "    \n",
    "    return teamA_avg, teamB_avg\n",
    "\n",
    "a_score, b_score = calculate_avg_score(teamA, teamB)"
   ]
  },
  {
   "cell_type": "code",
   "execution_count": 28,
   "metadata": {
    "collapsed": false
   },
   "outputs": [
    {
     "name": "stdout",
     "output_type": "stream",
     "text": [
      "Team A wins Game 1\n",
      "Team A wins Game 2\n",
      "Team B wins Game 3\n",
      "Team B wins Game 4\n",
      "Team A wins Game 5\n",
      "Team B wins Game 6\n",
      "Team A wins Game 7\n",
      "Team A wins the series\n"
     ]
    }
   ],
   "source": [
    "import random\n",
    "pr_a = a_score*1.0/(a_score + b_score)\n",
    "pr_b = b_score*1.0/(a_score + b_score)\n",
    "\n",
    "a_home_adv = pr_a + 0.05\n",
    "b_home_adv = pr_b + 0.05\n",
    "a_away_adv = pr_a - 0.05\n",
    "b_away_adv = pr_b - 0.05\n",
    "\n",
    "mat = [[a_home_adv, b_away_adv], [a_away_adv, b_home_adv]]\n",
    "state = [1, 0]\n",
    "teamA_wins = 0\n",
    "teamB_wins = 0\n",
    "for i in range(7):\n",
    "    state = np.matmul(state, mat)\n",
    "    rand = random.uniform(0,1)\n",
    "    if rand <= state[0]:\n",
    "        teamA_wins += 1\n",
    "        print (\"Team A wins Game \" + str(i+1))\n",
    "        state = [1,0]\n",
    "    else:\n",
    "        teamB_wins += 1\n",
    "        print (\"Team B wins Game \" + str(i+1))\n",
    "        state = [0,1]\n",
    "    \n",
    "    if teamA_wins == 4:\n",
    "        print(\"Team A wins the series\")\n",
    "        break\n",
    "    elif teamB_wins == 4:\n",
    "        print(\"Team B wins the series\")\n",
    "        break"
   ]
  },
  {
   "cell_type": "code",
   "execution_count": 29,
   "metadata": {
    "collapsed": false
   },
   "outputs": [
    {
     "name": "stdout",
     "output_type": "stream",
     "text": [
      "[ 0.37261146  0.3566879   0.27070064]\n"
     ]
    }
   ],
   "source": [
    "#APPENDIX\n",
    "\n",
    "def maximalEigenvector(A):\n",
    "    n = A.shape[1]\n",
    "    w,v = np.linalg.eig(A)\n",
    "    return abs(np.real(v[:n,0])/np.linalg.norm(v[:n,0],1))\n",
    "v1 = 3\n",
    "v2 = 2\n",
    "v3 = 1\n",
    "players  = [v1, v2, v3]\n",
    "transitions = np.zeros((3,3))\n",
    "for i in range(3):\n",
    "    for j in range(3):\n",
    "        if i != j:\n",
    "            transitions[i][j] = 1 - (players[j]/(players[i] + players[j]))\n",
    "        else:\n",
    "            transitions[i][j] = 0\n",
    "# print (transitions)\n",
    "col_sums = transitions.sum(axis=0)\n",
    "transitions = np.divide(transitions, col_sums)\n",
    "# print(transitions)\n",
    "v = maximalEigenvector(transitions)\n",
    "print(v)"
   ]
  }
 ],
 "metadata": {
  "kernelspec": {
   "display_name": "Python 3",
   "language": "python",
   "name": "python3"
  },
  "language_info": {
   "codemirror_mode": {
    "name": "ipython",
    "version": 3
   },
   "file_extension": ".py",
   "mimetype": "text/x-python",
   "name": "python",
   "nbconvert_exporter": "python",
   "pygments_lexer": "ipython3",
   "version": "3.5.2"
  }
 },
 "nbformat": 4,
 "nbformat_minor": 0
}
